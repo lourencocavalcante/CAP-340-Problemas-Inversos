{
  "metadata": {
    "kernelspec": {
      "language": "python",
      "display_name": "Python 3",
      "name": "python3"
    },
    "language_info": {
      "name": "python",
      "version": "3.10.14",
      "mimetype": "text/x-python",
      "codemirror_mode": {
        "name": "ipython",
        "version": 3
      },
      "pygments_lexer": "ipython3",
      "nbconvert_exporter": "python",
      "file_extension": ".py"
    },
    "kaggle": {
      "accelerator": "none",
      "dataSources": [],
      "dockerImageVersionId": 30804,
      "isInternetEnabled": true,
      "language": "python",
      "sourceType": "notebook",
      "isGpuEnabled": false
    },
    "colab": {
      "provenance": []
    }
  },
  "nbformat_minor": 0,
  "nbformat": 4,
  "cells": [
    {
      "cell_type": "markdown",
      "source": [
        "[<img src=\"https://github.com/lourencocavalcante/LogosINPE/blob/main/logoinpe.png?raw=true\" width = 500 align=\"left\">](https://www.gov.br/inpe/pt-br)\n",
        "\n",
        "[<img src=\"https://github.com/lourencocavalcante/LogosINPE/blob/main/LogoCAP.png?raw=true\" width = 300 align=\"right\">](http://www.inpe.br/posgraduacao/cap/)"
      ],
      "metadata": {
        "id": "-QiVftdKpUny"
      }
    },
    {
      "cell_type": "markdown",
      "source": [
        "# **CAP-340 Problemas Inversos**\n",
        "## **Esta atividade trata da identificação da condição inicial no problema de condução de calor em uma barra metálica usando um algoritmo genético (AG), em que para formulação do problema inverso, o problema é tratado como um problema de otimização**\n",
        "\n",
        "**Docente:** *Prof. Dr. Haroldo Fraga de Campos Velho*\n",
        "\n",
        "**Discente:** *Lourenço José Cavalcante Neto*\n",
        "\n",
        "---\n"
      ],
      "metadata": {
        "id": "zQx_7fPXpUn4"
      }
    },
    {
      "cell_type": "markdown",
      "source": [
        "<img src=\"https://github.com/lourencocavalcante/CAP-340-Problemas-Inversos/blob/main/Exerc_parte1.PNG?raw=true\" width = 800 align=\"center\">\n",
        "<img src=\"https://github.com/lourencocavalcante/CAP-340-Problemas-Inversos/blob/main/Exerc_parte2.PNG?raw=true\" width = 800 align=\"center\">"
      ],
      "metadata": {
        "id": "XSAi95etpUn5"
      }
    },
    {
      "cell_type": "markdown",
      "source": [
        "### O objetivo é calcular a evolução da temperatura ao longo da barra e compará-la com medições obtidas em sensores ao longo da barra. As medições são obtidas adicionando ruído uniforme às temperaturas simuladas"
      ],
      "metadata": {
        "id": "KVu2zhtspUn6"
      }
    },
    {
      "cell_type": "markdown",
      "source": [
        "## 1. Resolver o problema direto da equação do calor\n",
        "\n",
        "Para resolver este item, o código abaixo código implementa a solução do problema direto da equação do calor em uma barra de metal, utilizando o método de diferenças finitas. A equação diferencial parcial descrita modela a evolução temporal da temperatura ao longo da barra, considerando difusividade térmica constante e extremidades isoladas."
      ],
      "metadata": {
        "id": "doIwcglPpUn7"
      }
    },
    {
      "cell_type": "markdown",
      "source": [
        "## Cálculo do ***T_mod*** (***Temperatura simulada***), para poder se ter a **T_obs** (***Temperatura observada***) usando a condição inicial:\n",
        "\n",
        "### ***f(x) = sin(pi * x)***"
      ],
      "metadata": {
        "id": "Hp9Lm17qpUoE"
      }
    },
    {
      "cell_type": "code",
      "source": [
        "#Bibliotecas necessárias\n",
        "import numpy as np\n",
        "import matplotlib.pyplot as plt\n",
        "\n",
        "# Parâmetros do problema\n",
        "Lx = 1.0         # Comprimento da barra\n",
        "alpha = 0.01     # Difusividade térmica\n",
        "dx = 0.1         # Passo espacial\n",
        "dt = 1e-4        # Passo temporal\n",
        "tau = 0.01       # Tempo total da simulação\n",
        "nx = int(Lx / dx) + 1  # Número de pontos espaciais\n",
        "nt = int(tau / dt)     # Número de passos de tempo\n",
        "r = alpha * dt / dx**2  # Número de Courant\n",
        "\n",
        "# Inicialização das temperaturas\n",
        "x = np.linspace(0, Lx, nx)  # Posições espaciais\n",
        "T = np.zeros(nx)  # Temperatura inicial\n",
        "T_new = np.zeros(nx)  # Nova temperatura\n",
        "\n",
        "# Condição inicial: f(x) = sin(pi * x)\n",
        "T[:] = np.sin(np.pi * x)\n",
        "\n",
        "# Diferenças finitas explícitas para resolver o problema\n",
        "for n in range(0, nt):\n",
        "    for i in range(1, nx - 1):  # Ignora as extremidades\n",
        "        T_new[i] = T[i] + r * (T[i - 1] - 2 * T[i] + T[i + 1])\n",
        "\n",
        "    # Condições de contorno (fixas)\n",
        "    T_new[0] = 0  # Temperatura na extremidade esquerda fixada\n",
        "    T_new[-1] = 0  # Temperatura na extremidade direita fixada\n",
        "\n",
        "    # Atualiza o valor de T para o próximo passo de tempo\n",
        "    T[:] = T_new[:]\n",
        "\n",
        "# Agora, percorrendo todas as posições x para imprimir T_mod\n",
        "for i, pos in enumerate(x):\n",
        "    print(f'Temperatura simulada T_mod na posição x = {pos:.1f} é: {T[i]:.4f}')\n"
      ],
      "metadata": {
        "trusted": true,
        "execution": {
          "iopub.status.busy": "2024-12-19T15:58:03.240546Z",
          "iopub.execute_input": "2024-12-19T15:58:03.240976Z",
          "iopub.status.idle": "2024-12-19T15:58:03.254017Z",
          "shell.execute_reply.started": "2024-12-19T15:58:03.240938Z",
          "shell.execute_reply": "2024-12-19T15:58:03.252714Z"
        },
        "colab": {
          "base_uri": "https://localhost:8080/"
        },
        "id": "vH7GqYv4pUn7",
        "outputId": "e40a01c4-e12b-4c62-fe06-b30a3cb8486d"
      },
      "outputs": [
        {
          "output_type": "stream",
          "name": "stdout",
          "text": [
            "Temperatura simulada T_mod na posição x = 0.0 é: 0.0000\n",
            "Temperatura simulada T_mod na posição x = 0.1 é: 0.3087\n",
            "Temperatura simulada T_mod na posição x = 0.2 é: 0.5872\n",
            "Temperatura simulada T_mod na posição x = 0.3 é: 0.8082\n",
            "Temperatura simulada T_mod na posição x = 0.4 é: 0.9501\n",
            "Temperatura simulada T_mod na posição x = 0.5 é: 0.9990\n",
            "Temperatura simulada T_mod na posição x = 0.6 é: 0.9501\n",
            "Temperatura simulada T_mod na posição x = 0.7 é: 0.8082\n",
            "Temperatura simulada T_mod na posição x = 0.8 é: 0.5872\n",
            "Temperatura simulada T_mod na posição x = 0.9 é: 0.3087\n",
            "Temperatura simulada T_mod na posição x = 1.0 é: 0.0000\n"
          ]
        }
      ],
      "execution_count": 12
    },
    {
      "cell_type": "code",
      "source": [
        "# Parâmetros físicos do problema\n",
        "alpha = 0.01  # Difusividade térmica\n",
        "Lx = 1.0      # Comprimento da barra\n",
        "dx = 0.1      # Passo espacial\n",
        "tau = 0.01    # Tempo total da simulação\n",
        "\n",
        "\n",
        "# Aqui criamos um array numérico chamado x que representa os pontos\n",
        "# igualmente espaçados ao longo da barra de comprimento Lx\n",
        "x = np.linspace(0, Lx, int(Lx / dx) + 1)\n",
        "\n",
        "print(f'Quantidade de pontos definidos na barra:{len(x)}')\n",
        "\n",
        "# Condição inicial foi definda: f(x) = sin(pi * x)\n",
        "initial_condition = np.sin(np.pi * x)\n",
        "\n",
        "print(f'\\nCondição inicial:{initial_condition}')"
      ],
      "metadata": {
        "trusted": true,
        "execution": {
          "iopub.status.busy": "2024-12-19T15:58:03.256051Z",
          "iopub.execute_input": "2024-12-19T15:58:03.256528Z",
          "iopub.status.idle": "2024-12-19T15:58:03.281105Z",
          "shell.execute_reply.started": "2024-12-19T15:58:03.256475Z",
          "shell.execute_reply": "2024-12-19T15:58:03.279851Z"
        },
        "colab": {
          "base_uri": "https://localhost:8080/"
        },
        "id": "qnWxqUPkpUn-",
        "outputId": "1f92ad6c-dfc4-4cad-e31d-b2e82a41697a"
      },
      "outputs": [
        {
          "output_type": "stream",
          "name": "stdout",
          "text": [
            "Quantidade de pontos definidos na barra:11\n",
            "\n",
            "Condição inicial:[0.00000000e+00 3.09016994e-01 5.87785252e-01 8.09016994e-01\n",
            " 9.51056516e-01 1.00000000e+00 9.51056516e-01 8.09016994e-01\n",
            " 5.87785252e-01 3.09016994e-01 1.22464680e-16]\n"
          ]
        }
      ],
      "execution_count": 13
    },
    {
      "cell_type": "code",
      "source": [
        "# Função para resolver a equação do calor usando diferenças finitas explícitas\n",
        "def solve_heat_equation(f):\n",
        "    \"\"\"\n",
        "    Esta função serve para resolver numericamente a equação do calor ao longo do tempo.\n",
        "    Retorna a temperatura final T no tempo t = tau.\n",
        "    \"\"\"\n",
        "    nx = len(f)                # Número de pontos espaciais\n",
        "    dx = Lx / (nx - 1)         # Reajuste do passo espacial\n",
        "    dt = 0.01  #1e-4           # Passo temporal para estabilidade\n",
        "    nt = int(tau / dt)         # Número de passos no tempo\n",
        "    r = alpha * dt / dx**2     # Número de Courant\n",
        "\n",
        "    # Inicialização das temperaturas\n",
        "    T = np.zeros((nt, nx))     # Matriz para armazenar as temperaturas no tempo\n",
        "    T[0, :] = f                # Define a condição inicial\n",
        "\n",
        "\n",
        "    # Método explícito para atualiza a temperatura no tempo\n",
        "    for n in range(0, nt - 1):\n",
        "        T[n + 1, 1:-1] = T[n, 1:-1] + r * (T[n, :-2] - 2 * T[n, 1:-1] + T[n, 2:])\n",
        "\n",
        "    return T[-1, :]  # Retorna T final no tempo tau\n",
        "\n",
        "\n",
        "# Solução do problema direto\n",
        "final_temperature = solve_heat_equation(initial_condition)\n",
        "\n",
        "\n",
        "print(\"x       T(x)\")\n",
        "print(\"-\" * 20)\n",
        "for xi, Ti in zip(x, final_temperature):\n",
        "    print(f\"{xi:.4f}  {Ti:.4f}\")\n",
        "\n"
      ],
      "metadata": {
        "trusted": true,
        "execution": {
          "iopub.status.busy": "2024-12-19T15:58:03.298263Z",
          "iopub.execute_input": "2024-12-19T15:58:03.298698Z",
          "iopub.status.idle": "2024-12-19T15:58:03.308340Z",
          "shell.execute_reply.started": "2024-12-19T15:58:03.298650Z",
          "shell.execute_reply": "2024-12-19T15:58:03.307161Z"
        },
        "colab": {
          "base_uri": "https://localhost:8080/"
        },
        "id": "o4G-mItppUn_",
        "outputId": "378d41b7-bb42-416e-e944-13e74df78738"
      },
      "outputs": [
        {
          "output_type": "stream",
          "name": "stdout",
          "text": [
            "x       T(x)\n",
            "--------------------\n",
            "0.0000  0.0000\n",
            "0.1000  0.3090\n",
            "0.2000  0.5878\n",
            "0.3000  0.8090\n",
            "0.4000  0.9511\n",
            "0.5000  1.0000\n",
            "0.6000  0.9511\n",
            "0.7000  0.8090\n",
            "0.8000  0.5878\n",
            "0.9000  0.3090\n",
            "1.0000  0.0000\n"
          ]
        }
      ],
      "execution_count": 14
    },
    {
      "cell_type": "code",
      "source": [
        "# Gráfico com estilo científico\n",
        "# plt.style.use(\"seaborn-muted\")  # Escolha de estilo opcional\n",
        "\n",
        "plt.plot(x, final_temperature, color=\"blue\", linestyle=\"--\", marker=\"o\", label=\"Temperatura Final\")\n",
        "plt.xlabel(\"Posição (x) [m]\", fontsize=12)  # Rótulo do eixo X, unidades de metros\n",
        "plt.ylabel(\"Temperatura [°C]\", fontsize=12)  # Rótulo do eixo Y, unidades de Celsius\n",
        "plt.title(\"Distribuição de Temperatura ao Longo da Barra (t = tempo final)\", fontsize=14)\n",
        "plt.grid(True, linestyle=\":\", linewidth=0.5, alpha=0.7)  # Grid sutil para maior clareza\n",
        "plt.legend(loc=\"best\", fontsize=12)  # Legenda com fonte de tamanho adequado\n",
        "plt.tight_layout()  # Ajuste automático do layout para evitar sobreposição\n",
        "\n",
        "# Exibição do gráfico\n",
        "plt.show()\n",
        "\n",
        "# Salvamento do gráfico\n",
        "# plt.savefig(\"distribuicao_temperatura.png\", dpi=300)\n"
      ],
      "metadata": {
        "trusted": true,
        "execution": {
          "iopub.status.busy": "2024-12-19T15:58:03.324795Z",
          "iopub.execute_input": "2024-12-19T15:58:03.325489Z",
          "iopub.status.idle": "2024-12-19T15:58:03.767075Z",
          "shell.execute_reply.started": "2024-12-19T15:58:03.325448Z",
          "shell.execute_reply": "2024-12-19T15:58:03.766002Z"
        },
        "colab": {
          "base_uri": "https://localhost:8080/",
          "height": 487
        },
        "id": "GSAtbNVqpUn_",
        "outputId": "90336365-0304-43ec-86aa-5f0e9ce68573"
      },
      "outputs": [
        {
          "output_type": "display_data",
          "data": {
            "text/plain": [
              "<Figure size 640x480 with 1 Axes>"
            ],
            "image/png": "[encoded data removed]"
          },
          "metadata": {}
        }
      ],
      "execution_count": 15
    },
    {
      "cell_type": "markdown",
      "source": [
        "### Vamos verificar as condições de contorno"
      ],
      "metadata": {
        "id": "CFRMFd8vpUoA"
      }
    },
    {
      "cell_type": "markdown",
      "source": [
        "Após obtermos a solução do problema direto, vamos realizar a verificação das condições de contorno, dadas por:"
      ],
      "metadata": {
        "id": "QWYfX8c6pUoA"
      }
    },
    {
      "cell_type": "code",
      "source": [
        "# Verificação das condições de contorno\n",
        "def check_conditions(T_final, dx):\n",
        "    \"\"\"\n",
        "    Verifica se as condições de contorno\n",
        "    são satisfeitas nas extremidades da barra.\n",
        "    \"\"\"\n",
        "    left_derivative = (T_final[1] - T_final[0]) / dx  # Derivada à esquerda (x=0)\n",
        "    right_derivative = (T_final[-1] - T_final[-2]) / dx  # Derivada à direita (x=Lx)\n",
        "\n",
        "\n",
        "    print(f\"\\nDerivada na extremidade esquerda (x=0): {left_derivative:.5f}\")\n",
        "    print(f\"Derivada na extremidade direita (x=Lx): {right_derivative:.5f}\")\n",
        "\n",
        "    # Retornando os valores para análises adicionais\n",
        "    return left_derivative, right_derivative\n",
        "\n",
        "# Verificar após a solução do problema direto\n",
        "left_d, right_d = check_conditions(final_temperature, dx)"
      ],
      "metadata": {
        "trusted": true,
        "execution": {
          "iopub.status.busy": "2024-12-19T15:58:03.769315Z",
          "iopub.execute_input": "2024-12-19T15:58:03.770130Z",
          "iopub.status.idle": "2024-12-19T15:58:03.777976Z",
          "shell.execute_reply.started": "2024-12-19T15:58:03.770078Z",
          "shell.execute_reply": "2024-12-19T15:58:03.776715Z"
        },
        "colab": {
          "base_uri": "https://localhost:8080/"
        },
        "id": "q4ltA2fapUoA",
        "outputId": "58044608-7f9b-425d-eaa3-aff8b79550c3"
      },
      "outputs": [
        {
          "output_type": "stream",
          "name": "stdout",
          "text": [
            "\n",
            "Derivada na extremidade esquerda (x=0): 3.09017\n",
            "Derivada na extremidade direita (x=Lx): -3.09017\n"
          ]
        }
      ],
      "execution_count": 16
    },
    {
      "cell_type": "markdown",
      "source": [
        "\n",
        "* Nas condições implementadas, as extremidades x=0 e x=Lx **não podem trocar calor** com o ambiente externo.\n",
        "* Isso significa que a temperatura em T(0) e T(Lx) é ajustada para ser **igual ao ponto vizinho mais próximo**.\n",
        "* Essa condição força os valores em x=0 e x=Lx a se **equalizarem** ao longo do tempo..\n"
      ],
      "metadata": {
        "id": "bLZuoeQepUoB"
      }
    },
    {
      "cell_type": "markdown",
      "source": [
        "## 2. Construir o conjunto de soluções candidatas (200)"
      ],
      "metadata": {
        "id": "0Jyqf95upUoB"
      }
    },
    {
      "cell_type": "code",
      "source": [
        "population_size = 200  # Número de indivíduos na população\n",
        "\n",
        "def initialize_population(size, length):\n",
        "    \"\"\"\n",
        "    Gera uma população inicial de soluções candidatas aleatórias no intervalo [-1, 1].\n",
        "    \"\"\"\n",
        "    return [np.random.uniform(-1, 1, length) for _ in range(size)]\n",
        "\n",
        "# Teste da função: Geração da população inicial\n",
        "length = len(x)  # Número de pontos na barra\n",
        "population = initialize_population(population_size, length)\n",
        "\n",
        "# Visualizar as primeiras 5 soluções candidatas\n",
        "print(\"Primeiras 5 soluções candidatas, das 200:\")\n",
        "for i in range(5):\n",
        "    print(population[i])\n"
      ],
      "metadata": {
        "trusted": true,
        "execution": {
          "iopub.status.busy": "2024-12-19T15:58:03.779434Z",
          "iopub.execute_input": "2024-12-19T15:58:03.779940Z",
          "iopub.status.idle": "2024-12-19T15:58:03.797994Z",
          "shell.execute_reply.started": "2024-12-19T15:58:03.779878Z",
          "shell.execute_reply": "2024-12-19T15:58:03.796873Z"
        },
        "colab": {
          "base_uri": "https://localhost:8080/"
        },
        "id": "WgdWYlD5pUoB",
        "outputId": "1114ed2d-7ebc-4d0a-ebf0-7d48dc26343f"
      },
      "outputs": [
        {
          "output_type": "stream",
          "name": "stdout",
          "text": [
            "Primeiras 5 soluções candidatas, das 200:\n",
            "[-0.42569095  0.17145666  0.4976252   0.05162663 -0.78744865  0.02754516\n",
            "  0.26329206 -0.22407975 -0.38968114  0.0826997  -0.04742452]\n",
            "[-0.0916455  -0.35889427 -0.19318999  0.93943534 -0.38545397  0.4556044\n",
            "  0.81818609 -0.68709016  0.18195972  0.36711207  0.91696205]\n",
            "[-0.26807111  0.18656699 -0.7809191  -0.17125149 -0.05578635  0.50954712\n",
            "  0.28128067 -0.56784737 -0.53980549 -0.24762001 -0.80295081]\n",
            "[-0.37525713  0.88806673  0.06615656  0.51235543 -0.62286645  0.18561324\n",
            "  0.3823403   0.5905335  -0.06182174  0.96403141  0.34353742]\n",
            "[-0.24546497 -0.66426619  0.66898505  0.69532193 -0.4160305  -0.227649\n",
            "  0.70212983  0.44899271  0.56756645  0.55944231 -0.43771577]\n"
          ]
        }
      ],
      "execution_count": 17
    },
    {
      "cell_type": "markdown",
      "source": [
        "## 3. Implementar o elitismo no Algoritmo Genético"
      ],
      "metadata": {
        "id": "Ls-wvJlgpUoB"
      }
    },
    {
      "cell_type": "code",
      "source": [
        "elite_fraction = 0.3  # Proporção de elitismo (30%)\n",
        "elite_size = int(elite_fraction * population_size)\n",
        "\n",
        "def preserve_elite(population, fitness, elite_fraction):\n",
        "    \"\"\"\n",
        "    Seleciona os 30% melhores indivíduos da população (estratégia elitista).\n",
        "    \"\"\"\n",
        "    elite_size = int(elite_fraction * len(population))\n",
        "    sorted_indices = np.argsort(fitness)\n",
        "    return [population[i] for i in sorted_indices[:elite_size]]\n",
        "\n",
        "# Teste da função: preservar a elite\n",
        "fitness = np.random.rand(population_size)  # Simula valores aleatórios de fitness\n",
        "elite = preserve_elite(population, fitness, elite_fraction)\n",
        "\n",
        "print(f\"Selecionados {len(elite)} melhores indivíduos da elite. Vamos listar os 5 primeiros:\\n\")\n",
        "print(elite[:5])\n"
      ],
      "metadata": {
        "trusted": true,
        "execution": {
          "iopub.status.busy": "2024-12-19T15:58:03.799322Z",
          "iopub.execute_input": "2024-12-19T15:58:03.799718Z",
          "iopub.status.idle": "2024-12-19T15:58:03.816014Z",
          "shell.execute_reply.started": "2024-12-19T15:58:03.799680Z",
          "shell.execute_reply": "2024-12-19T15:58:03.814677Z"
        },
        "colab": {
          "base_uri": "https://localhost:8080/"
        },
        "id": "UQySQ52WpUoC",
        "outputId": "760af6f5-0f00-4431-a688-3f5295cc9534"
      },
      "outputs": [
        {
          "output_type": "stream",
          "name": "stdout",
          "text": [
            "Selecionados 60 melhores indivíduos da elite. Vamos listar os 5 primeiros:\n",
            "\n",
            "[array([ 0.5659159 , -0.30636556,  0.16620323,  0.14149965,  0.59396134,\n",
            "       -0.69849818,  0.90061103, -0.23628262, -0.67549305, -0.70697862,\n",
            "        0.98946307]), array([-0.93487218, -0.78007148, -0.81474215, -0.68924752, -0.87452096,\n",
            "        0.5191876 ,  0.89814021, -0.9193226 ,  0.13096098, -0.02190195,\n",
            "        0.69138335]), array([-0.50470247, -0.09088602,  0.63789808, -0.51859815,  0.62638228,\n",
            "        0.33310826, -0.18903737, -0.58633981,  0.29175074,  0.42978336,\n",
            "       -0.13360129]), array([ 0.55732467,  0.4565977 , -0.22236593,  0.75097168, -0.9403641 ,\n",
            "       -0.31487328,  0.05800894, -0.88616255, -0.38296635,  0.75957477,\n",
            "        0.67350667]), array([-0.44332202,  0.91610484,  0.67618713, -0.7208367 ,  0.33119817,\n",
            "       -0.86479498, -0.35648009, -0.40000722, -0.79873717, -0.29067778,\n",
            "        0.88968683])]\n"
          ]
        }
      ],
      "execution_count": 18
    },
    {
      "cell_type": "markdown",
      "source": [
        "## 4. Aplicar seleção, cruzamento e mutação"
      ],
      "metadata": {
        "id": "7r6lGQF3pUoC"
      }
    },
    {
      "cell_type": "code",
      "source": [
        "# Função de seleção via torneio\n",
        "def select_parents(population, fitness):\n",
        "    \"\"\"\n",
        "    Seleção via torneio: escolhe o melhor entre dois indivíduos aleatórios.\n",
        "    \"\"\"\n",
        "    # Sorteia aleatoriamente dois índices distintos da população\n",
        "    idx1, idx2 = np.random.choice(len(population), size=2, replace=False)\n",
        "\n",
        "    # Compara os valores de fitness dos dois indivíduos sorteados\n",
        "    # Retorna o indivíduo com menor valor de fitness (o melhor indivíduo no torneio)\n",
        "    return population[idx1] if fitness[idx1] < fitness[idx2] else population[idx2]\n",
        "\n",
        "# Função de cruzamento em ponto único\n",
        "def crossover(parent1, parent2):\n",
        "    \"\"\"\n",
        "    Cruzamento em um ponto aleatório para gerar um filho.\n",
        "    \"\"\"\n",
        "    # Seleciona um ponto de corte aleatório no intervalo [1, tamanho do cromossomo - 1]\n",
        "    point = np.random.randint(1, len(parent1) - 1)\n",
        "\n",
        "    # Gera o filho combinando partes dos dois pais:\n",
        "    # Primeira parte do pai1 até o ponto de corte, seguida pela segunda parte do pai2\n",
        "    return np.concatenate((parent1[:point], parent2[point:]))\n",
        "\n",
        "# Função de mutação\n",
        "def mutate(individual, rate):\n",
        "    \"\"\"\n",
        "    Aplica mutação ao indivíduo com uma taxa específica.\n",
        "    \"\"\"\n",
        "    # Percorre cada \"gene\" (elemento) do vetor individual\n",
        "    for i in range(len(individual)):\n",
        "        # Com probabilidade igual a 'rate', realiza mutação neste gene\n",
        "        if np.random.rand() < rate:\n",
        "            # Adiciona uma variação aleatória entre -0.1 e 0.1 ao valor do gene\n",
        "            individual[i] += np.random.uniform(-0.1, 0.1)\n",
        "    # Retorna o indivíduo após a aplicação das possíveis mutações\n",
        "    return individual\n",
        "\n",
        "# Teste de seleção, cruzamento e mutação\n",
        "\n",
        "# Seleciona dois indivíduos da elite (melhores soluções encontradas)\n",
        "parent1 = elite[0]  # O melhor indivíduo (elite)\n",
        "parent2 = elite[1]  # O segundo melhor indivíduo (elite)\n",
        "\n",
        "# Realiza cruzamento entre os dois pais para gerar um filho\n",
        "child = crossover(parent1, parent2)\n",
        "\n",
        "# Aplica mutação ao filho com uma taxa de 5%\n",
        "mutated_child = mutate(child, rate=0.05)\n",
        "\n",
        "# Exibe os resultados das operações realizadas\n",
        "print(\"Pai 1:\\n\", parent1, \"\\n\")                 # Exibe o primeiro pai\n",
        "print(\"Pai 2:\\n\", parent2, \"\\n\")                 # Exibe o segundo pai\n",
        "print(\"Filho gerado (crossover):\\n\", child, \"\\n\") # Mostra o filho antes da mutação\n",
        "print(\"Filho após mutação:\\n\", mutated_child, \"\\n\") # Mostra o filho após a mutação\n"
      ],
      "metadata": {
        "trusted": true,
        "execution": {
          "iopub.status.busy": "2024-12-19T15:58:03.819341Z",
          "iopub.execute_input": "2024-12-19T15:58:03.820231Z",
          "iopub.status.idle": "2024-12-19T15:58:03.832684Z",
          "shell.execute_reply.started": "2024-12-19T15:58:03.820192Z",
          "shell.execute_reply": "2024-12-19T15:58:03.831716Z"
        },
        "colab": {
          "base_uri": "https://localhost:8080/"
        },
        "id": "634UIwJ1pUoC",
        "outputId": "b8e97286-750b-4b22-9383-4f17cd04fc43"
      },
      "outputs": [
        {
          "output_type": "stream",
          "name": "stdout",
          "text": [
            "Pai 1:\n",
            " [ 0.5659159  -0.30636556  0.16620323  0.14149965  0.59396134 -0.69849818\n",
            "  0.90061103 -0.23628262 -0.67549305 -0.70697862  0.98946307] \n",
            "\n",
            "Pai 2:\n",
            " [-0.93487218 -0.78007148 -0.81474215 -0.68924752 -0.87452096  0.5191876\n",
            "  0.89814021 -0.9193226   0.13096098 -0.02190195  0.69138335] \n",
            "\n",
            "Filho gerado (crossover):\n",
            " [ 0.5659159  -0.30636556  0.16620323 -0.68924752 -0.87452096  0.5191876\n",
            "  0.89814021 -0.9193226   0.13096098 -0.02190195  0.69138335] \n",
            "\n",
            "Filho após mutação:\n",
            " [ 0.5659159  -0.30636556  0.16620323 -0.68924752 -0.87452096  0.5191876\n",
            "  0.89814021 -0.9193226   0.13096098 -0.02190195  0.69138335] \n",
            "\n"
          ]
        }
      ],
      "execution_count": 19
    },
    {
      "cell_type": "markdown",
      "source": [
        "## Resultado Final: Aqui juntaremos todos os passos para o Algoritmo Genético (AG)"
      ],
      "metadata": {
        "id": "Z4RBsURGpUoC"
      }
    },
    {
      "cell_type": "code",
      "source": [
        "\n",
        "\n",
        "# Parâmetros gerais\n",
        "population_size = 200         # Tamanho da população inicial\n",
        "generations = 100             # Número máximo de gerações\n",
        "elite_fraction = 0.3          # Proporção da população preservada como elite\n",
        "initial_mutation_rate = 0.05  # Taxa inicial de mutação\n",
        "mutation_decay = 0.99         # Decaimento da mutação\n",
        "convergence_threshold = 0.000001  # Critério de parada baseado na convergência\n",
        "beta = 0.05                  # Parâmetro de regularização\n",
        "\n",
        "# Importando as funções que já definimos anteriormente\n",
        "def objective_function(f, T_obs, positions):\n",
        "    T_mod = solve_heat_equation(f)\n",
        "    misfit = np.sum((T_obs - T_mod)**2)  # Erro quadrático\n",
        "    regularization = beta * np.sum(f**2)\n",
        "    return misfit + regularization\n",
        "\n",
        "def select_parents(population, fitness):\n",
        "    idx1, idx2 = np.random.choice(len(population), size=2, replace=False)\n",
        "    return population[idx1] if fitness[idx1] < fitness[idx2] else population[idx2]\n",
        "\n",
        "def preserve_elite(population, fitness, elite_fraction):\n",
        "    elite_size = int(elite_fraction * len(population))\n",
        "    sorted_indices = np.argsort(fitness)\n",
        "    return [population[i] for i in sorted_indices[:elite_size]]\n",
        "\n",
        "def crossover(parent1, parent2):\n",
        "    point = np.random.randint(1, len(parent1) - 1)\n",
        "    return np.concatenate((parent1[:point], parent2[point:]))\n",
        "\n",
        "def mutate(individual, rate):\n",
        "    for i in range(len(individual)):\n",
        "        if np.random.rand() < rate:\n",
        "            individual[i] += np.random.uniform(-0.1, 0.1)\n",
        "    return individual\n",
        "\n",
        "def genetic_algorithm(T_obs, positions, length):\n",
        "    \"\"\"\n",
        "    Implementa o AG para otimizar a condição inicial.\n",
        "    \"\"\"\n",
        "    mutation_rate = initial_mutation_rate\n",
        "    population = initialize_population(population_size, length)\n",
        "    best_solutions = []\n",
        "\n",
        "    for gen in range(generations):\n",
        "        # Calcula o fitness para cada indivíduo\n",
        "        fitness = [objective_function(ind, T_obs, positions) for ind in population]\n",
        "\n",
        "        # Elitismo: preserva os melhores\n",
        "        elite = preserve_elite(population, fitness, elite_fraction)\n",
        "        new_population = elite[:]\n",
        "\n",
        "        while len(new_population) < population_size:\n",
        "            parent1 = select_parents(population, fitness)\n",
        "            parent2 = select_parents(population, fitness)\n",
        "            child = mutate(crossover(parent1, parent2), mutation_rate)\n",
        "            new_population.append(child)\n",
        "\n",
        "        population = new_population\n",
        "        best_idx = np.argmin(fitness)\n",
        "        best_solutions.append(fitness[best_idx])\n",
        "\n",
        "        print(f\"Geração {gen+1}, Melhor solução: {fitness[best_idx]:.6f}\")\n",
        "\n",
        "        # Critério de convergência\n",
        "        if len(best_solutions) > 5 and max(best_solutions[-5:]) - min(best_solutions[-5:]) < convergence_threshold:\n",
        "            print(f\"Convergência atingida na geração {gen+1}\")\n",
        "            break\n",
        "\n",
        "        mutation_rate *= mutation_decay  # Redução da mutação\n",
        "\n",
        "    return population[np.argmin(fitness)], best_solutions\n",
        "\n",
        "# Posições e condição inicial verdadeira\n",
        "x = np.linspace(0, Lx, int(Lx / dx) + 1)     # Posições discretizadas\n",
        "true_initial_condition = np.sin(np.pi * x)  # Condição inicial\n",
        "\n",
        "# Gerar observações sintéticas com ruído\n",
        "T_obs = solve_heat_equation(true_initial_condition) * (1 + 0.05 * np.random.uniform(-1, 1, len(x)))\n",
        "\n",
        "# Executar o AG\n",
        "best_solution, best_solutions = genetic_algorithm(T_obs, x, len(x))\n",
        "\n",
        "\n",
        "\n",
        "\n",
        "\n",
        "# Verificação das condições de contorno\n",
        "def check_conditions(T_final, dx):\n",
        "    \"\"\"\n",
        "    Verifica se as condições de contorno\n",
        "    são satisfeitas nas extremidades da barra.\n",
        "    \"\"\"\n",
        "    left_derivative = (T_final[1] - T_final[0]) / dx  # Derivada à esquerda (x=0)\n",
        "    right_derivative = (T_final[-1] - T_final[-2]) / dx  # Derivada à direita (x=Lx)\n",
        "\n",
        "\n",
        "    print(f\"Derivada na extremidade esquerda (x=0): {left_derivative:.5f}\")\n",
        "    print(f\"Derivada na extremidade direita (x=Lx): {right_derivative:.5f}\")\n",
        "\n",
        "    # Retornando os valores para análises adicionais\n",
        "    return left_derivative, right_derivative\n",
        "\n",
        "# Verificar após a solução do problema direto\n",
        "left_d, right_d = check_conditions(best_solution, dx)\n"
      ],
      "metadata": {
        "trusted": true,
        "execution": {
          "iopub.status.busy": "2024-12-19T15:58:03.834333Z",
          "iopub.execute_input": "2024-12-19T15:58:03.834692Z",
          "iopub.status.idle": "2024-12-19T15:58:04.797660Z",
          "shell.execute_reply.started": "2024-12-19T15:58:03.834618Z",
          "shell.execute_reply": "2024-12-19T15:58:04.796559Z"
        },
        "colab": {
          "base_uri": "https://localhost:8080/"
        },
        "id": "psGrvJImpUoD",
        "outputId": "7203e018-bcfb-489f-be51-eceeae2c5319"
      },
      "outputs": [
        {
          "output_type": "stream",
          "name": "stdout",
          "text": [
            "Geração 1, Melhor solução: 1.880572\n",
            "Geração 2, Melhor solução: 1.880572\n",
            "Geração 3, Melhor solução: 1.245565\n",
            "Geração 4, Melhor solução: 1.245565\n",
            "Geração 5, Melhor solução: 1.245565\n",
            "Geração 6, Melhor solução: 1.154425\n",
            "Geração 7, Melhor solução: 0.930230\n",
            "Geração 8, Melhor solução: 0.850594\n",
            "Geração 9, Melhor solução: 0.550181\n",
            "Geração 10, Melhor solução: 0.543573\n",
            "Geração 11, Melhor solução: 0.449952\n",
            "Geração 12, Melhor solução: 0.449952\n",
            "Geração 13, Melhor solução: 0.438751\n",
            "Geração 14, Melhor solução: 0.409218\n",
            "Geração 15, Melhor solução: 0.404123\n",
            "Geração 16, Melhor solução: 0.377145\n",
            "Geração 17, Melhor solução: 0.360402\n",
            "Geração 18, Melhor solução: 0.351610\n",
            "Geração 19, Melhor solução: 0.347374\n",
            "Geração 20, Melhor solução: 0.332551\n",
            "Geração 21, Melhor solução: 0.332551\n",
            "Geração 22, Melhor solução: 0.317251\n",
            "Geração 23, Melhor solução: 0.316979\n",
            "Geração 24, Melhor solução: 0.291841\n",
            "Geração 25, Melhor solução: 0.286214\n",
            "Geração 26, Melhor solução: 0.277507\n",
            "Geração 27, Melhor solução: 0.268978\n",
            "Geração 28, Melhor solução: 0.266876\n",
            "Geração 29, Melhor solução: 0.266876\n",
            "Geração 30, Melhor solução: 0.261362\n",
            "Geração 31, Melhor solução: 0.257676\n",
            "Geração 32, Melhor solução: 0.257026\n",
            "Geração 33, Melhor solução: 0.253864\n",
            "Geração 34, Melhor solução: 0.253010\n",
            "Geração 35, Melhor solução: 0.250001\n",
            "Geração 36, Melhor solução: 0.248381\n",
            "Geração 37, Melhor solução: 0.245488\n",
            "Geração 38, Melhor solução: 0.243367\n",
            "Geração 39, Melhor solução: 0.243367\n",
            "Geração 40, Melhor solução: 0.243367\n",
            "Geração 41, Melhor solução: 0.242217\n",
            "Geração 42, Melhor solução: 0.242217\n",
            "Geração 43, Melhor solução: 0.242046\n",
            "Geração 44, Melhor solução: 0.241866\n",
            "Geração 45, Melhor solução: 0.241866\n",
            "Geração 46, Melhor solução: 0.241866\n",
            "Geração 47, Melhor solução: 0.241623\n",
            "Geração 48, Melhor solução: 0.241623\n",
            "Geração 49, Melhor solução: 0.241358\n",
            "Geração 50, Melhor solução: 0.241358\n",
            "Geração 51, Melhor solução: 0.241358\n",
            "Geração 52, Melhor solução: 0.240955\n",
            "Geração 53, Melhor solução: 0.240955\n",
            "Geração 54, Melhor solução: 0.240955\n",
            "Geração 55, Melhor solução: 0.240916\n",
            "Geração 56, Melhor solução: 0.240744\n",
            "Geração 57, Melhor solução: 0.240611\n",
            "Geração 58, Melhor solução: 0.240611\n",
            "Geração 59, Melhor solução: 0.240437\n",
            "Geração 60, Melhor solução: 0.240437\n",
            "Geração 61, Melhor solução: 0.240398\n",
            "Geração 62, Melhor solução: 0.240386\n",
            "Geração 63, Melhor solução: 0.240367\n",
            "Geração 64, Melhor solução: 0.240367\n",
            "Geração 65, Melhor solução: 0.240346\n",
            "Geração 66, Melhor solução: 0.240338\n",
            "Geração 67, Melhor solução: 0.240333\n",
            "Geração 68, Melhor solução: 0.240306\n",
            "Geração 69, Melhor solução: 0.240306\n",
            "Geração 70, Melhor solução: 0.240300\n",
            "Geração 71, Melhor solução: 0.240282\n",
            "Geração 72, Melhor solução: 0.240282\n",
            "Geração 73, Melhor solução: 0.240282\n",
            "Geração 74, Melhor solução: 0.240263\n",
            "Geração 75, Melhor solução: 0.240263\n",
            "Geração 76, Melhor solução: 0.240263\n",
            "Geração 77, Melhor solução: 0.240262\n",
            "Geração 78, Melhor solução: 0.240262\n",
            "Geração 79, Melhor solução: 0.240262\n",
            "Geração 80, Melhor solução: 0.240259\n",
            "Geração 81, Melhor solução: 0.240259\n",
            "Geração 82, Melhor solução: 0.240241\n",
            "Geração 83, Melhor solução: 0.240241\n",
            "Geração 84, Melhor solução: 0.240241\n",
            "Geração 85, Melhor solução: 0.240237\n",
            "Geração 86, Melhor solução: 0.240237\n",
            "Geração 87, Melhor solução: 0.240237\n",
            "Geração 88, Melhor solução: 0.240237\n",
            "Geração 89, Melhor solução: 0.240232\n",
            "Geração 90, Melhor solução: 0.240232\n",
            "Geração 91, Melhor solução: 0.240231\n",
            "Geração 92, Melhor solução: 0.240230\n",
            "Geração 93, Melhor solução: 0.240228\n",
            "Geração 94, Melhor solução: 0.240224\n",
            "Geração 95, Melhor solução: 0.240215\n",
            "Geração 96, Melhor solução: 0.240215\n",
            "Geração 97, Melhor solução: 0.240215\n",
            "Geração 98, Melhor solução: 0.240215\n",
            "Geração 99, Melhor solução: 0.240215\n",
            "Convergência atingida na geração 99\n",
            "Derivada na extremidade esquerda (x=0): 2.96925\n",
            "Derivada na extremidade direita (x=Lx): -2.93019\n"
          ]
        }
      ],
      "execution_count": 20
    },
    {
      "cell_type": "code",
      "source": [
        "# Visualização dos Resultados\n",
        "import matplotlib.pyplot as plt\n",
        "# Configurar tamanho e layout para os subplots\n",
        "fig, axes = plt.subplots(1, 2, figsize=(12, 5))\n",
        "\n",
        "# Gráfico 1: Melhor solução encontrada vs condição inicial verdadeira\n",
        "axes[0].plot(x, best_solution, label=\"Melhor solução encontrada\")\n",
        "axes[0].plot(x, true_initial_condition, 'k--', label=\"Condição inicial verdadeira\", linewidth=2)\n",
        "axes[0].set_title(\"Resultado Final: Melhor Solução Encontrada pelo AG\")\n",
        "axes[0].set_xlabel(\"Posição (x)\")\n",
        "axes[0].set_ylabel(\"Temperatura\")\n",
        "axes[0].legend()\n",
        "axes[0].grid()\n",
        "\n",
        "# Gráfico 2: Evolução do Erro (Função Objetivo) ao longo das gerações\n",
        "axes[1].plot(range(1, len(best_solutions) + 1), best_solutions, color='r', linewidth=2)\n",
        "axes[1].set_title(\"Evolução do Erro (Função Objetivo) ao longo das Gerações\")\n",
        "axes[1].set_xlabel(\"Geração\")\n",
        "axes[1].set_ylabel(\"Erro (Função Objetivo)\")\n",
        "axes[1].grid()\n",
        "\n",
        "# Ajuste final e exibição dos gráficos\n",
        "plt.tight_layout()  # Ajusta o layout dos gráficos para evitar sobreposições\n",
        "plt.show()"
      ],
      "metadata": {
        "trusted": true,
        "execution": {
          "iopub.status.busy": "2024-12-19T15:58:04.799142Z",
          "iopub.execute_input": "2024-12-19T15:58:04.799489Z",
          "iopub.status.idle": "2024-12-19T15:58:05.314235Z",
          "shell.execute_reply.started": "2024-12-19T15:58:04.799456Z",
          "shell.execute_reply": "2024-12-19T15:58:05.313053Z"
        },
        "colab": {
          "base_uri": "https://localhost:8080/",
          "height": 507
        },
        "id": "zC2UyCrVpUoD",
        "outputId": "331806a7-9802-45ef-9cd4-86b2f6debd1b"
      },
      "outputs": [
        {
          "output_type": "display_data",
          "data": {
            "text/plain": [
              "<Figure size 1200x500 with 2 Axes>"
            ],
            "image/png": "[encoded data removed]"
          },
          "metadata": {}
        }
      ],
      "execution_count": 21
    },
    {
      "cell_type": "code",
      "source": [
        "# Verificação das condições de contorno\n",
        "def check_conditions(T_final, dx):\n",
        "    \"\"\"\n",
        "    Verifica se as condições de contorno\n",
        "    são satisfeitas nas extremidades da barra.\n",
        "    \"\"\"\n",
        "    left_derivative = (T_final[1] - T_final[0]) / dx  # Derivada à esquerda (x=0)\n",
        "    right_derivative = (T_final[-1] - T_final[-2]) / dx  # Derivada à direita (x=Lx)\n",
        "\n",
        "\n",
        "    print(f\"Derivada na extremidade esquerda (x=0): {left_derivative:.5f}\")\n",
        "    print(f\"Derivada na extremidade direita (x=Lx): {right_derivative:.5f}\")\n",
        "\n",
        "    # Retornando os valores para análises adicionais\n",
        "    return left_derivative, right_derivative\n",
        "\n",
        "# Verificar após a solução do problema direto\n",
        "left_d, right_d = check_conditions(best_solution, dx)\n"
      ],
      "metadata": {
        "trusted": true,
        "execution": {
          "iopub.status.busy": "2024-12-19T15:58:05.315694Z",
          "iopub.execute_input": "2024-12-19T15:58:05.316025Z",
          "iopub.status.idle": "2024-12-19T15:58:05.323116Z",
          "shell.execute_reply.started": "2024-12-19T15:58:05.315994Z",
          "shell.execute_reply": "2024-12-19T15:58:05.322009Z"
        },
        "colab": {
          "base_uri": "https://localhost:8080/"
        },
        "id": "iUA5pKDYpUoE",
        "outputId": "48634ba8-4ee3-403e-d029-2112019959c8"
      },
      "outputs": [
        {
          "output_type": "stream",
          "name": "stdout",
          "text": [
            "Derivada na extremidade esquerda (x=0): 2.96925\n",
            "Derivada na extremidade direita (x=Lx): -2.93019\n"
          ]
        }
      ],
      "execution_count": 22
    }
  ]
}